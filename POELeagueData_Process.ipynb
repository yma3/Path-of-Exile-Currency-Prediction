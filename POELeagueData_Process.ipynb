{
  "nbformat": 4,
  "nbformat_minor": 0,
  "metadata": {
    "colab": {
      "name": "POELeagueData_Process.ipynb",
      "provenance": [],
      "collapsed_sections": [],
      "mount_file_id": "16c4yu9_JpAU3eWnp0SgPXIl_fO1Se3li",
      "authorship_tag": "ABX9TyN/Huctfaek1/TFCmVR7+vU",
      "include_colab_link": true
    },
    "kernelspec": {
      "name": "python3",
      "display_name": "Python 3"
    }
  },
  "cells": [
    {
      "cell_type": "markdown",
      "metadata": {
        "id": "view-in-github",
        "colab_type": "text"
      },
      "source": [
        "<a href=\"https://colab.research.google.com/github/yma3/Path-of-Exile-Currency-Prediction/blob/master/POELeagueData_Process.ipynb\" target=\"_parent\"><img src=\"https://colab.research.google.com/assets/colab-badge.svg\" alt=\"Open In Colab\"/></a>"
      ]
    },
    {
      "cell_type": "code",
      "metadata": {
        "id": "h1Q6amNw3AYE",
        "colab_type": "code",
        "colab": {}
      },
      "source": [
        "import os\n",
        "import pandas as pd\n"
      ],
      "execution_count": 52,
      "outputs": []
    },
    {
      "cell_type": "code",
      "metadata": {
        "id": "A2si15lac6lU",
        "colab_type": "code",
        "colab": {
          "base_uri": "https://localhost:8080/",
          "height": 289
        },
        "outputId": "ca61168a-944d-4d61-9848-0ecd518aa797"
      },
      "source": [
        "dir = '/content/drive/My Drive/ColabData/POEData/'\n",
        "os.listdir(dir)"
      ],
      "execution_count": 5,
      "outputs": [
        {
          "output_type": "execute_result",
          "data": {
            "text/plain": [
              "['Metamorph.2019-12-13.2020-03-09.currency.csv',\n",
              " 'Metamorph.2019-12-13.2020-03-09.items.csv',\n",
              " 'Blight.2019-09-06.2019-12-09.currency.csv',\n",
              " 'Blight.2019-09-06.2019-12-09.items.csv',\n",
              " 'Legion.2019-06-07.2019-09-02.currency.csv',\n",
              " 'Legion.2019-06-07.2019-09-02.items.csv',\n",
              " 'Synthesis.2019-03-08.2019-06-04.currency.csv',\n",
              " 'Synthesis.2019-03-08.2019-06-04.items.csv',\n",
              " 'Betrayal.2018-12-07.2019-03-05.items.csv',\n",
              " 'Betrayal.2018-12-07.2019-03-05.currency.csv',\n",
              " 'Delve.2018-08-31.2018-12-03.currency.csv',\n",
              " 'Delve.2018-08-31.2018-12-03.items.csv',\n",
              " 'Incursion.2018-06-01.2018-08-28.items.csv',\n",
              " 'Incursion.2018-06-01.2018-08-28.currency.csv',\n",
              " 'Delirium.2020-03-13.2020-06-15.currency.csv',\n",
              " 'Delirium.2020-03-13.2020-06-15.items.csv']"
            ]
          },
          "metadata": {
            "tags": []
          },
          "execution_count": 5
        }
      ]
    },
    {
      "cell_type": "code",
      "metadata": {
        "id": "3tsNXT5xlmtZ",
        "colab_type": "code",
        "colab": {}
      },
      "source": [
        "LEAGUES = ['deli', 'meta', 'blight','legion','synth','betray','delve','incur']\n",
        "LEAGUES.reverse()\n",
        "DIRS = {'deli':'Delirium.2020-03-13.2020-06-15', \n",
        "        'meta':'Metamorph.2019-12-13.2020-03-09',\n",
        "        'blight':'Blight.2019-09-06.2019-12-09',\n",
        "        'legion':'Legion.2019-06-07.2019-09-02',\n",
        "        'synth':'Synthesis.2019-03-08.2019-06-04',\n",
        "        'betray':'Betrayal.2018-12-07.2019-03-05',\n",
        "        'delve':'Delve.2018-08-31.2018-12-03',\n",
        "        'incur':'Incursion.2018-06-01.2018-08-28'\n",
        "        }"
      ],
      "execution_count": 46,
      "outputs": []
    },
    {
      "cell_type": "code",
      "metadata": {
        "id": "os3o44hfsSW0",
        "colab_type": "code",
        "colab": {
          "base_uri": "https://localhost:8080/",
          "height": 34
        },
        "outputId": "31626d80-24cc-4ad3-cebc-4f7609359832"
      },
      "source": [
        "print(LEAGUES)"
      ],
      "execution_count": 45,
      "outputs": [
        {
          "output_type": "stream",
          "text": [
            "['incur', 'delve', 'betray', 'synth', 'legion', 'blight', 'meta', 'deli']\n"
          ],
          "name": "stdout"
        }
      ]
    },
    {
      "cell_type": "code",
      "metadata": {
        "id": "I4P863BZdZws",
        "colab_type": "code",
        "colab": {}
      },
      "source": [
        "currdf_leagues = {}\n",
        "for league in LEAGUES:\n",
        "  currdf_leagues[league] = pd.read_csv(dir+DIRS[league]+'.currency.csv', sep=';')\n",
        "\n",
        "# meta_curr = pd.read_csv(dir+DIRS['meta']+'.currency.csv', sep=';')"
      ],
      "execution_count": 47,
      "outputs": []
    },
    {
      "cell_type": "code",
      "metadata": {
        "id": "QMuY5IlokpgL",
        "colab_type": "code",
        "colab": {}
      },
      "source": [
        "exdfs = []\n",
        "for league in LEAGUES:\n",
        "  df = currdf_leagues[league]\n",
        "  dfslice = df[df['Get']=='Exalted Orb']\n",
        "  exdfs.append(dfslice)\n",
        "exdfs = pd.concat(exdfs)"
      ],
      "execution_count": 48,
      "outputs": []
    },
    {
      "cell_type": "code",
      "metadata": {
        "id": "DXl6DFLKsBKs",
        "colab_type": "code",
        "colab": {}
      },
      "source": [
        "exdfs.to_csv(dir+'exalteddf.csv')"
      ],
      "execution_count": 50,
      "outputs": []
    },
    {
      "cell_type": "code",
      "metadata": {
        "id": "qy4FiiHPlE1X",
        "colab_type": "code",
        "colab": {}
      },
      "source": [
        "currdfs = [meta_curr[meta_curr['Get']=='Exalted Orb'], deli_curr[deli_curr['Get']=='Exalted Orb']]\n",
        "timeseriesdf = pd.concat(currdfs)"
      ],
      "execution_count": 23,
      "outputs": []
    },
    {
      "cell_type": "code",
      "metadata": {
        "id": "yf3EPIQjmcsB",
        "colab_type": "code",
        "colab": {
          "base_uri": "https://localhost:8080/",
          "height": 255
        },
        "outputId": "0c13675e-75da-4eeb-c321-b790aef9e154"
      },
      "source": [
        "print(timeseriesdf)"
      ],
      "execution_count": 28,
      "outputs": [
        {
          "output_type": "stream",
          "text": [
            "         League        Date          Get        Pay      Value Confidence\n",
            "2464  Metamorph  2019-12-13  Exalted Orb  Chaos Orb   28.47274     Medium\n",
            "2465  Metamorph  2019-12-14  Exalted Orb  Chaos Orb   55.83333       High\n",
            "2466  Metamorph  2019-12-15  Exalted Orb  Chaos Orb   77.90908       High\n",
            "2467  Metamorph  2019-12-16  Exalted Orb  Chaos Orb   97.00000       High\n",
            "2468  Metamorph  2019-12-17  Exalted Orb  Chaos Orb   95.91040       High\n",
            "...         ...         ...          ...        ...        ...        ...\n",
            "3055   Delirium  2020-06-11  Exalted Orb  Chaos Orb  138.00000       High\n",
            "3056   Delirium  2020-06-12  Exalted Orb  Chaos Orb  138.00000       High\n",
            "3057   Delirium  2020-06-13  Exalted Orb  Chaos Orb  140.00028       High\n",
            "3058   Delirium  2020-06-14  Exalted Orb  Chaos Orb  144.35077       High\n",
            "3059   Delirium  2020-06-15  Exalted Orb  Chaos Orb  150.00000       High\n",
            "\n",
            "[178 rows x 6 columns]\n"
          ],
          "name": "stdout"
        }
      ]
    }
  ]
}